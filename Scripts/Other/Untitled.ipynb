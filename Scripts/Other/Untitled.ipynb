{
 "cells": [
  {
   "cell_type": "code",
   "execution_count": 32,
   "id": "96e72092",
   "metadata": {},
   "outputs": [],
   "source": [
    "import pandas as pd\n",
    "import numpy as np\n",
    "import seaborn as sns\n",
    "import matplotlib\n",
    "import matplotlib.pyplot as plt\n",
    "import os\n",
    "import sklearn\n",
    "from sklearn.model_selection import train_test_split \n",
    "from sklearn.linear_model import LinearRegression\n",
    "from sklearn.metrics import mean_squared_error, r2_score\n",
    "from sklearn.cluster import KMeans\n",
    "import pylab as pl\n",
    "import folium\n",
    "import json"
   ]
  },
  {
   "cell_type": "code",
   "execution_count": 2,
   "id": "356431ba",
   "metadata": {},
   "outputs": [],
   "source": [
    "# Defining path\n",
    "\n",
    "path = r'C:\\Users\\Lex\\OneDrive\\Data Analytics\\Data Immersion - Advanced Analytics\\Metropolitan Housing Analysis\\Data'"
   ]
  },
  {
   "cell_type": "code",
   "execution_count": 3,
   "id": "bdfdd2c3",
   "metadata": {},
   "outputs": [],
   "source": [
    "# Importing state dataframe\n",
    "\n",
    "dfstate = pd.read_csv(os.path.join(path, 'Master v8 State Subset.csv'))"
   ]
  },
  {
   "cell_type": "code",
   "execution_count": 23,
   "id": "d94d3662",
   "metadata": {},
   "outputs": [],
   "source": [
    "# Importing metro dataframe\n",
    "\n",
    "dfmetro = pd.read_csv(os.path.join(path, 'Master v8 Metro Subset.csv'))"
   ]
  },
  {
   "cell_type": "code",
   "execution_count": 5,
   "id": "1d3df366",
   "metadata": {},
   "outputs": [],
   "source": [
    "# Ensuring all columns are always shown\n",
    "\n",
    "pd.options.display.max_columns = None"
   ]
  },
  {
   "cell_type": "code",
   "execution_count": 11,
   "id": "81c25804",
   "metadata": {},
   "outputs": [],
   "source": [
    "# Ensuring high decimal precision\n",
    "\n",
    "pd.set_option('precision', 2)"
   ]
  },
  {
   "cell_type": "code",
   "execution_count": 20,
   "id": "a862ef78",
   "metadata": {},
   "outputs": [
    {
     "data": {
      "text/plain": [
       "Index(['Year', 'City (Zillow)', 'Area', 'CBSA', 'Type', 'Key',\n",
       "       'Unprotected Acreage', '% 0 Car Households', '% 1 Car Households',\n",
       "       '% 2+ Car Households', 'Residential Density', 'Population Density',\n",
       "       'Employment Density', 'Walkability Index W.AVG',\n",
       "       'Max Walkability Index', 'Transit Access W.AVG',\n",
       "       'Annual SF Home Appreciation (HPI)',\n",
       "       'SF Home Metropolitan Average Value',\n",
       "       'Annual SF Home Appreciation (ZHVI)', 'First CBSA SF Home Value',\n",
       "       'Cumulative % Change SF Home Average Value', 'Pop. Estimate Category',\n",
       "       'Pop. Density Category', 'Population Estimate', 'Net Population Change',\n",
       "       'Natural Population Change', 'International Migration',\n",
       "       'Domestic Migration', 'Net Migration', '% Population Change',\n",
       "       '% Migration Pop Change', '% Int Mig Pop Change',\n",
       "       '% Dom Mig Pop Change', '% SF Building Permits',\n",
       "       '% 2 Unit Building Permits', '% 3-4 Unit Building Permits',\n",
       "       '% 5+ Unit Building Permits', '% Multi-Unit Building Permits',\n",
       "       'Total Housing Units', '% 1-Unit Detached Houses',\n",
       "       '% 1-Unit Attached Houses', '% SF Houses', '% 2 Unit Buildings',\n",
       "       '% 3-4 Unit Buildings', '% 5-9 Unit Buildings',\n",
       "       '% 10-19 Unit Buildings', '% 20+ Unit Buildings',\n",
       "       '% Multi-Unit Buildings', 'Annual Change % MU Buildings', 'First MU %',\n",
       "       'Cumulative Change % MU Buildings', '% Mobile Homes',\n",
       "       '% Boats, RVs, Vans, Etc.', 'Owner-Occupied Units (Value Computations)',\n",
       "       '% Value <$50,000', '% Value $50,000-$99,999',\n",
       "       '% Value $100,000-$149,999', '% Value $150,000-$199,999',\n",
       "       '% Value $200,000-$299,999', '% Value $300,000-$499,999',\n",
       "       '% Value $500,000-$999,999', '% Value $1,000,000+',\n",
       "       'Owner-Occupied Unit Value Median (Dollars)', 'Rent Median (Dollars)',\n",
       "       'First Rent', '% Change Rent Median', 'Cumulative Change % Rent Median',\n",
       "       'Occupied Units Paying Rent', '% GRAPI <15%', '% GRAPI 15-19.9%',\n",
       "       '% GRAPI 20-24.9%', '% GRAPI 25-29.9%', '% GRAPI 30-34.9%',\n",
       "       '% GRAPI >35%'],\n",
       "      dtype='object')"
      ]
     },
     "execution_count": 20,
     "metadata": {},
     "output_type": "execute_result"
    }
   ],
   "source": [
    "dfmetro.columns"
   ]
  },
  {
   "cell_type": "code",
   "execution_count": 24,
   "id": "8f110e20",
   "metadata": {},
   "outputs": [],
   "source": [
    "dfmetro= dfmetro[['Year', 'Area', 'CBSA', 'Type', \n",
    "       'Unprotected Acreage', 'Population Density',\n",
    "       'Walkability Index W.AVG',\n",
    "       'Transit Access W.AVG',\n",
    "       'SF Home Metropolitan Average Value',\n",
    "       'Annual SF Home Appreciation (ZHVI)',\n",
    "       'Cumulative % Change SF Home Average Value', 'Pop. Estimate Category',\n",
    "       'Pop. Density Category', 'Population Estimate', \n",
    "       '% Population Change',\n",
    "       '% Migration Pop Change', '% Int Mig Pop Change',\n",
    "       '% Dom Mig Pop Change',\n",
    "       'Total Housing Units', '% SF Houses',\n",
    "       '% Multi-Unit Buildings', 'Annual Change % MU Buildings',\n",
    "       'Cumulative Change % MU Buildings', 'Rent Median (Dollars)',\n",
    "       '% Change Rent Median', 'Cumulative Change % Rent Median']]"
   ]
  },
  {
   "cell_type": "code",
   "execution_count": 25,
   "id": "ddad156f",
   "metadata": {},
   "outputs": [
    {
     "data": {
      "text/plain": [
       "Year                                           int64\n",
       "Area                                          object\n",
       "CBSA                                           int64\n",
       "Type                                          object\n",
       "Unprotected Acreage                          float64\n",
       "Population Density                           float64\n",
       "Walkability Index W.AVG                      float64\n",
       "Transit Access W.AVG                         float64\n",
       "SF Home Metropolitan Average Value           float64\n",
       "Annual SF Home Appreciation (ZHVI)           float64\n",
       "Cumulative % Change SF Home Average Value    float64\n",
       "Pop. Estimate Category                        object\n",
       "Pop. Density Category                         object\n",
       "Population Estimate                          float64\n",
       "% Population Change                          float64\n",
       "% Migration Pop Change                       float64\n",
       "% Int Mig Pop Change                         float64\n",
       "% Dom Mig Pop Change                         float64\n",
       "Total Housing Units                          float64\n",
       "% SF Houses                                  float64\n",
       "% Multi-Unit Buildings                       float64\n",
       "Annual Change % MU Buildings                 float64\n",
       "Cumulative Change % MU Buildings             float64\n",
       "Rent Median (Dollars)                        float64\n",
       "% Change Rent Median                         float64\n",
       "Cumulative Change % Rent Median              float64\n",
       "dtype: object"
      ]
     },
     "execution_count": 25,
     "metadata": {},
     "output_type": "execute_result"
    }
   ],
   "source": [
    "dfmetro.dtypes"
   ]
  },
  {
   "cell_type": "code",
   "execution_count": 26,
   "id": "12e8ddff",
   "metadata": {},
   "outputs": [
    {
     "data": {
      "text/plain": [
       "0             NaN\n",
       "1       -5.18e-03\n",
       "2        5.23e-03\n",
       "3             NaN\n",
       "4       -1.10e-02\n",
       "           ...   \n",
       "11298         NaN\n",
       "11299         NaN\n",
       "11300         NaN\n",
       "11301         NaN\n",
       "11302         NaN\n",
       "Name: Cumulative Change % MU Buildings, Length: 11303, dtype: float64"
      ]
     },
     "execution_count": 26,
     "metadata": {},
     "output_type": "execute_result"
    }
   ],
   "source": [
    "dfmetro['Cumulative Change % MU Buildings']"
   ]
  },
  {
   "cell_type": "code",
   "execution_count": 31,
   "id": "b963ba68",
   "metadata": {},
   "outputs": [],
   "source": [
    "# Import U.S. CBSA areas JSON file\n",
    "\n",
    "cbsa_geo = r'C:/Users/Lex/OneDrive/Data Analytics/Data Immersion - Advanced Analytics/Metropolitan Housing Analysis/Data/Geo Data/CBSA 5m JSON/cb_2018_us_cbsa_5m.geojson'"
   ]
  },
  {
   "cell_type": "code",
   "execution_count": 38,
   "id": "b7b2a1ff",
   "metadata": {},
   "outputs": [],
   "source": [
    "dfmetro1 = dfmetro.loc[dfmetro['Year'] == 2020]"
   ]
  },
  {
   "cell_type": "code",
   "execution_count": 41,
   "id": "2fe1f718",
   "metadata": {},
   "outputs": [
    {
     "ename": "AttributeError",
     "evalue": "'str' object has no attribute 'get'",
     "output_type": "error",
     "traceback": [
      "\u001b[1;31m---------------------------------------------------------------------------\u001b[0m",
      "\u001b[1;31mAttributeError\u001b[0m                            Traceback (most recent call last)",
      "\u001b[1;32m~\\AppData\\Local\\Temp/ipykernel_21088/1971615545.py\u001b[0m in \u001b[0;36m<module>\u001b[1;34m\u001b[0m\n\u001b[0;32m      2\u001b[0m \u001b[0mmap\u001b[0m \u001b[1;33m=\u001b[0m \u001b[0mfolium\u001b[0m\u001b[1;33m.\u001b[0m\u001b[0mMap\u001b[0m\u001b[1;33m(\u001b[0m\u001b[0mlocation\u001b[0m \u001b[1;33m=\u001b[0m \u001b[1;33m[\u001b[0m\u001b[1;36m100\u001b[0m\u001b[1;33m,\u001b[0m \u001b[1;36m0\u001b[0m\u001b[1;33m]\u001b[0m\u001b[1;33m,\u001b[0m \u001b[0mzoom_start\u001b[0m \u001b[1;33m=\u001b[0m \u001b[1;36m1.5\u001b[0m\u001b[1;33m)\u001b[0m\u001b[1;33m\u001b[0m\u001b[1;33m\u001b[0m\u001b[0m\n\u001b[0;32m      3\u001b[0m \u001b[1;33m\u001b[0m\u001b[0m\n\u001b[1;32m----> 4\u001b[1;33m folium.Choropleth(\n\u001b[0m\u001b[0;32m      5\u001b[0m     \u001b[0mgeo_data\u001b[0m \u001b[1;33m=\u001b[0m \u001b[0mcbsa_geo\u001b[0m\u001b[1;33m,\u001b[0m\u001b[1;33m\u001b[0m\u001b[1;33m\u001b[0m\u001b[0m\n\u001b[0;32m      6\u001b[0m     \u001b[0mdata\u001b[0m \u001b[1;33m=\u001b[0m \u001b[0mdfmetro1\u001b[0m\u001b[1;33m,\u001b[0m\u001b[1;33m\u001b[0m\u001b[1;33m\u001b[0m\u001b[0m\n",
      "\u001b[1;32m~\\anaconda3\\lib\\site-packages\\folium\\features.py\u001b[0m in \u001b[0;36m__init__\u001b[1;34m(self, geo_data, data, columns, key_on, bins, fill_color, nan_fill_color, fill_opacity, nan_fill_opacity, line_color, line_weight, line_opacity, name, legend_name, overlay, control, show, topojson, smooth_factor, highlight, **kwargs)\u001b[0m\n\u001b[0;32m   1287\u001b[0m                 smooth_factor=smooth_factor)\n\u001b[0;32m   1288\u001b[0m         \u001b[1;32melse\u001b[0m\u001b[1;33m:\u001b[0m\u001b[1;33m\u001b[0m\u001b[1;33m\u001b[0m\u001b[0m\n\u001b[1;32m-> 1289\u001b[1;33m             self.geojson = GeoJson(\n\u001b[0m\u001b[0;32m   1290\u001b[0m                 \u001b[0mgeo_data\u001b[0m\u001b[1;33m,\u001b[0m\u001b[1;33m\u001b[0m\u001b[1;33m\u001b[0m\u001b[0m\n\u001b[0;32m   1291\u001b[0m                 \u001b[0mstyle_function\u001b[0m\u001b[1;33m=\u001b[0m\u001b[0mstyle_function\u001b[0m\u001b[1;33m,\u001b[0m\u001b[1;33m\u001b[0m\u001b[1;33m\u001b[0m\u001b[0m\n",
      "\u001b[1;32m~\\anaconda3\\lib\\site-packages\\folium\\features.py\u001b[0m in \u001b[0;36m__init__\u001b[1;34m(self, data, style_function, highlight_function, name, overlay, control, show, smooth_factor, tooltip, embed, popup, zoom_on_click, marker)\u001b[0m\n\u001b[0;32m    502\u001b[0m             \u001b[0mself\u001b[0m\u001b[1;33m.\u001b[0m\u001b[0mconvert_to_feature_collection\u001b[0m\u001b[1;33m(\u001b[0m\u001b[1;33m)\u001b[0m\u001b[1;33m\u001b[0m\u001b[1;33m\u001b[0m\u001b[0m\n\u001b[0;32m    503\u001b[0m             \u001b[1;32mif\u001b[0m \u001b[0mself\u001b[0m\u001b[1;33m.\u001b[0m\u001b[0mstyle\u001b[0m\u001b[1;33m:\u001b[0m\u001b[1;33m\u001b[0m\u001b[1;33m\u001b[0m\u001b[0m\n\u001b[1;32m--> 504\u001b[1;33m                 \u001b[0mself\u001b[0m\u001b[1;33m.\u001b[0m\u001b[0m_validate_function\u001b[0m\u001b[1;33m(\u001b[0m\u001b[0mstyle_function\u001b[0m\u001b[1;33m,\u001b[0m \u001b[1;34m'style_function'\u001b[0m\u001b[1;33m)\u001b[0m\u001b[1;33m\u001b[0m\u001b[1;33m\u001b[0m\u001b[0m\n\u001b[0m\u001b[0;32m    505\u001b[0m                 \u001b[0mself\u001b[0m\u001b[1;33m.\u001b[0m\u001b[0mstyle_function\u001b[0m \u001b[1;33m=\u001b[0m \u001b[0mstyle_function\u001b[0m\u001b[1;33m\u001b[0m\u001b[1;33m\u001b[0m\u001b[0m\n\u001b[0;32m    506\u001b[0m                 \u001b[0mself\u001b[0m\u001b[1;33m.\u001b[0m\u001b[0mstyle_map\u001b[0m \u001b[1;33m=\u001b[0m \u001b[1;33m{\u001b[0m\u001b[1;33m}\u001b[0m\u001b[1;33m\u001b[0m\u001b[1;33m\u001b[0m\u001b[0m\n",
      "\u001b[1;32m~\\anaconda3\\lib\\site-packages\\folium\\features.py\u001b[0m in \u001b[0;36m_validate_function\u001b[1;34m(self, func, name)\u001b[0m\n\u001b[0;32m    567\u001b[0m         \"\"\"\n\u001b[0;32m    568\u001b[0m         \u001b[0mtest_feature\u001b[0m \u001b[1;33m=\u001b[0m \u001b[0mself\u001b[0m\u001b[1;33m.\u001b[0m\u001b[0mdata\u001b[0m\u001b[1;33m[\u001b[0m\u001b[1;34m'features'\u001b[0m\u001b[1;33m]\u001b[0m\u001b[1;33m[\u001b[0m\u001b[1;36m0\u001b[0m\u001b[1;33m]\u001b[0m\u001b[1;33m\u001b[0m\u001b[1;33m\u001b[0m\u001b[0m\n\u001b[1;32m--> 569\u001b[1;33m         \u001b[1;32mif\u001b[0m \u001b[1;32mnot\u001b[0m \u001b[0mcallable\u001b[0m\u001b[1;33m(\u001b[0m\u001b[0mfunc\u001b[0m\u001b[1;33m)\u001b[0m \u001b[1;32mor\u001b[0m \u001b[1;32mnot\u001b[0m \u001b[0misinstance\u001b[0m\u001b[1;33m(\u001b[0m\u001b[0mfunc\u001b[0m\u001b[1;33m(\u001b[0m\u001b[0mtest_feature\u001b[0m\u001b[1;33m)\u001b[0m\u001b[1;33m,\u001b[0m \u001b[0mdict\u001b[0m\u001b[1;33m)\u001b[0m\u001b[1;33m:\u001b[0m\u001b[1;33m\u001b[0m\u001b[1;33m\u001b[0m\u001b[0m\n\u001b[0m\u001b[0;32m    570\u001b[0m             raise ValueError('{} should be a function that accepts items from '\n\u001b[0;32m    571\u001b[0m                              \u001b[1;34m'data[\\'features\\'] and returns a dictionary.'\u001b[0m\u001b[1;33m\u001b[0m\u001b[1;33m\u001b[0m\u001b[0m\n",
      "\u001b[1;32m~\\anaconda3\\lib\\site-packages\\folium\\features.py\u001b[0m in \u001b[0;36mstyle_function\u001b[1;34m(x)\u001b[0m\n\u001b[0;32m   1265\u001b[0m \u001b[1;33m\u001b[0m\u001b[0m\n\u001b[0;32m   1266\u001b[0m         \u001b[1;32mdef\u001b[0m \u001b[0mstyle_function\u001b[0m\u001b[1;33m(\u001b[0m\u001b[0mx\u001b[0m\u001b[1;33m)\u001b[0m\u001b[1;33m:\u001b[0m\u001b[1;33m\u001b[0m\u001b[1;33m\u001b[0m\u001b[0m\n\u001b[1;32m-> 1267\u001b[1;33m             \u001b[0mcolor\u001b[0m\u001b[1;33m,\u001b[0m \u001b[0mopacity\u001b[0m \u001b[1;33m=\u001b[0m \u001b[0mcolor_scale_fun\u001b[0m\u001b[1;33m(\u001b[0m\u001b[0mx\u001b[0m\u001b[1;33m)\u001b[0m\u001b[1;33m\u001b[0m\u001b[1;33m\u001b[0m\u001b[0m\n\u001b[0m\u001b[0;32m   1268\u001b[0m             return {\n\u001b[0;32m   1269\u001b[0m                 \u001b[1;34m'weight'\u001b[0m\u001b[1;33m:\u001b[0m \u001b[0mline_weight\u001b[0m\u001b[1;33m,\u001b[0m\u001b[1;33m\u001b[0m\u001b[1;33m\u001b[0m\u001b[0m\n",
      "\u001b[1;32m~\\anaconda3\\lib\\site-packages\\folium\\features.py\u001b[0m in \u001b[0;36mcolor_scale_fun\u001b[1;34m(x)\u001b[0m\n\u001b[0;32m   1246\u001b[0m \u001b[1;33m\u001b[0m\u001b[0m\n\u001b[0;32m   1247\u001b[0m             \u001b[1;32mdef\u001b[0m \u001b[0mcolor_scale_fun\u001b[0m\u001b[1;33m(\u001b[0m\u001b[0mx\u001b[0m\u001b[1;33m)\u001b[0m\u001b[1;33m:\u001b[0m\u001b[1;33m\u001b[0m\u001b[1;33m\u001b[0m\u001b[0m\n\u001b[1;32m-> 1248\u001b[1;33m                 \u001b[0mkey_of_x\u001b[0m \u001b[1;33m=\u001b[0m \u001b[0mget_by_key\u001b[0m\u001b[1;33m(\u001b[0m\u001b[0mx\u001b[0m\u001b[1;33m,\u001b[0m \u001b[0mkey_on\u001b[0m\u001b[1;33m)\u001b[0m\u001b[1;33m\u001b[0m\u001b[1;33m\u001b[0m\u001b[0m\n\u001b[0m\u001b[0;32m   1249\u001b[0m                 \u001b[1;32mif\u001b[0m \u001b[0mkey_of_x\u001b[0m \u001b[1;32mis\u001b[0m \u001b[1;32mNone\u001b[0m\u001b[1;33m:\u001b[0m\u001b[1;33m\u001b[0m\u001b[1;33m\u001b[0m\u001b[0m\n\u001b[0;32m   1250\u001b[0m                     \u001b[1;32mraise\u001b[0m \u001b[0mValueError\u001b[0m\u001b[1;33m(\u001b[0m\u001b[1;34m\"key_on `{!r}` not found in GeoJSON.\"\u001b[0m\u001b[1;33m.\u001b[0m\u001b[0mformat\u001b[0m\u001b[1;33m(\u001b[0m\u001b[0mkey_on\u001b[0m\u001b[1;33m)\u001b[0m\u001b[1;33m)\u001b[0m\u001b[1;33m\u001b[0m\u001b[1;33m\u001b[0m\u001b[0m\n",
      "\u001b[1;32m~\\anaconda3\\lib\\site-packages\\folium\\features.py\u001b[0m in \u001b[0;36mget_by_key\u001b[1;34m(obj, key)\u001b[0m\n\u001b[0;32m   1242\u001b[0m             \u001b[1;32mdef\u001b[0m \u001b[0mget_by_key\u001b[0m\u001b[1;33m(\u001b[0m\u001b[0mobj\u001b[0m\u001b[1;33m,\u001b[0m \u001b[0mkey\u001b[0m\u001b[1;33m)\u001b[0m\u001b[1;33m:\u001b[0m\u001b[1;33m\u001b[0m\u001b[1;33m\u001b[0m\u001b[0m\n\u001b[0;32m   1243\u001b[0m                 return (obj.get(key, None) if len(key.split('.')) <= 1 else\n\u001b[1;32m-> 1244\u001b[1;33m                         get_by_key(obj.get(key.split('.')[0], None),\n\u001b[0m\u001b[0;32m   1245\u001b[0m                                    '.'.join(key.split('.')[1:])))\n\u001b[0;32m   1246\u001b[0m \u001b[1;33m\u001b[0m\u001b[0m\n",
      "\u001b[1;32m~\\anaconda3\\lib\\site-packages\\folium\\features.py\u001b[0m in \u001b[0;36mget_by_key\u001b[1;34m(obj, key)\u001b[0m\n\u001b[0;32m   1242\u001b[0m             \u001b[1;32mdef\u001b[0m \u001b[0mget_by_key\u001b[0m\u001b[1;33m(\u001b[0m\u001b[0mobj\u001b[0m\u001b[1;33m,\u001b[0m \u001b[0mkey\u001b[0m\u001b[1;33m)\u001b[0m\u001b[1;33m:\u001b[0m\u001b[1;33m\u001b[0m\u001b[1;33m\u001b[0m\u001b[0m\n\u001b[0;32m   1243\u001b[0m                 return (obj.get(key, None) if len(key.split('.')) <= 1 else\n\u001b[1;32m-> 1244\u001b[1;33m                         get_by_key(obj.get(key.split('.')[0], None),\n\u001b[0m\u001b[0;32m   1245\u001b[0m                                    '.'.join(key.split('.')[1:])))\n\u001b[0;32m   1246\u001b[0m \u001b[1;33m\u001b[0m\u001b[0m\n",
      "\u001b[1;31mAttributeError\u001b[0m: 'str' object has no attribute 'get'"
     ]
    }
   ],
   "source": [
    "# Setup a folium map\n",
    "map = folium.Map(location = [100, 0], zoom_start = 1.5)\n",
    "\n",
    "folium.Choropleth(\n",
    "    geo_data = cbsa_geo, \n",
    "    data = dfmetro1,\n",
    "    columns = ['CBSA','% Multi-Unit Buildings'],\n",
    "    key_on = 'type.Feature.properties.CBSAFP',\n",
    "    fill_color = 'YlOrBr', fill_opacity=0.6, line_opacity=0.1,\n",
    "    legend_name = \"% Multi-Unit Buildings\").add_to(map)\n",
    "folium.LayerControl().add_to(map)\n",
    "\n",
    "map"
   ]
  },
  {
   "cell_type": "code",
   "execution_count": null,
   "id": "1d16eb31",
   "metadata": {},
   "outputs": [],
   "source": []
  }
 ],
 "metadata": {
  "kernelspec": {
   "display_name": "Python 3 (ipykernel)",
   "language": "python",
   "name": "python3"
  },
  "language_info": {
   "codemirror_mode": {
    "name": "ipython",
    "version": 3
   },
   "file_extension": ".py",
   "mimetype": "text/x-python",
   "name": "python",
   "nbconvert_exporter": "python",
   "pygments_lexer": "ipython3",
   "version": "3.9.7"
  }
 },
 "nbformat": 4,
 "nbformat_minor": 5
}
